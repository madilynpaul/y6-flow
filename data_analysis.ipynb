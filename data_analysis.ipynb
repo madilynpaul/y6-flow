{
 "cells": [
  {
   "cell_type": "code",
   "execution_count": 1,
   "id": "be6b67d2",
   "metadata": {},
   "outputs": [],
   "source": [
    "import signac\n",
    "import numpy\n",
    "import matplotlib.pyplot as plt"
   ]
  },
  {
   "cell_type": "code",
   "execution_count": 2,
   "id": "b0982885",
   "metadata": {},
   "outputs": [],
   "source": [
    "project = signac.get_project()"
   ]
  },
  {
   "cell_type": "code",
   "execution_count": 3,
   "id": "3ae7dce5",
   "metadata": {},
   "outputs": [
    {
     "data": {
      "text/html": [
       "JobsCursor(project=Project.get_project('/home/madilynpaul/notebooks/hoomdpolymers/p3ht'), filter=None)<div>\n",
       "<style scoped>\n",
       "    .dataframe tbody tr th:only-of-type {\n",
       "        vertical-align: middle;\n",
       "    }\n",
       "\n",
       "    .dataframe tbody tr th {\n",
       "        vertical-align: top;\n",
       "    }\n",
       "\n",
       "    .dataframe thead th {\n",
       "        text-align: right;\n",
       "    }\n",
       "</style>\n",
       "<table border=\"1\" class=\"dataframe\">\n",
       "  <thead>\n",
       "    <tr style=\"text-align: right;\">\n",
       "      <th></th>\n",
       "      <th>sp.density</th>\n",
       "      <th>sp.n_compounds</th>\n",
       "      <th>sp.system_kwargs</th>\n",
       "      <th>sp.remove_hydrogens</th>\n",
       "      <th>sp.tau_kt</th>\n",
       "      <th>sp.dt</th>\n",
       "      <th>sp.r_cut</th>\n",
       "      <th>sp.sim_seed</th>\n",
       "      <th>sp.shrink_steps</th>\n",
       "      <th>sp.shrink_period</th>\n",
       "      <th>sp.shrink_kT</th>\n",
       "      <th>sp.kT</th>\n",
       "      <th>sp.n_steps</th>\n",
       "      <th>doc.done</th>\n",
       "      <th>doc.ref_distance</th>\n",
       "      <th>doc.ref_mass</th>\n",
       "      <th>doc.ref_energy</th>\n",
       "      <th>doc.target_box</th>\n",
       "    </tr>\n",
       "  </thead>\n",
       "  <tbody>\n",
       "    <tr>\n",
       "      <th>bed6ca36c32d9c9a1526643811ad6910</th>\n",
       "      <td>0.8</td>\n",
       "      <td>200</td>\n",
       "      <td>None</td>\n",
       "      <td>True</td>\n",
       "      <td>0.01</td>\n",
       "      <td>0.0003</td>\n",
       "      <td>2.5</td>\n",
       "      <td>42</td>\n",
       "      <td>1000000.0</td>\n",
       "      <td>10000</td>\n",
       "      <td>8.0</td>\n",
       "      <td>4.0</td>\n",
       "      <td>100000000.0</td>\n",
       "      <td>False</td>\n",
       "      <td>3.563595</td>\n",
       "      <td>5.323688e-26</td>\n",
       "      <td>0.25</td>\n",
       "      <td>[18.291443765429943, 18.291443765429943, 18.29...</td>\n",
       "    </tr>\n",
       "    <tr>\n",
       "      <th>4069c0c866147f26a58d4cad6281a501</th>\n",
       "      <td>0.8</td>\n",
       "      <td>200</td>\n",
       "      <td>None</td>\n",
       "      <td>True</td>\n",
       "      <td>0.01</td>\n",
       "      <td>0.0003</td>\n",
       "      <td>2.5</td>\n",
       "      <td>42</td>\n",
       "      <td>1000000.0</td>\n",
       "      <td>10000</td>\n",
       "      <td>8.0</td>\n",
       "      <td>4.5</td>\n",
       "      <td>100000000.0</td>\n",
       "      <td>False</td>\n",
       "      <td>3.563595</td>\n",
       "      <td>5.323688e-26</td>\n",
       "      <td>0.25</td>\n",
       "      <td>[18.291443765429943, 18.291443765429943, 18.29...</td>\n",
       "    </tr>\n",
       "    <tr>\n",
       "      <th>e99e91a365317f0ac0d4aaa439811641</th>\n",
       "      <td>0.8</td>\n",
       "      <td>200</td>\n",
       "      <td>None</td>\n",
       "      <td>True</td>\n",
       "      <td>0.01</td>\n",
       "      <td>0.0003</td>\n",
       "      <td>2.5</td>\n",
       "      <td>42</td>\n",
       "      <td>1000000.0</td>\n",
       "      <td>10000</td>\n",
       "      <td>8.0</td>\n",
       "      <td>5.0</td>\n",
       "      <td>100000000.0</td>\n",
       "      <td>False</td>\n",
       "      <td>3.563595</td>\n",
       "      <td>5.323688e-26</td>\n",
       "      <td>0.25</td>\n",
       "      <td>[18.291443765429943, 18.291443765429943, 18.29...</td>\n",
       "    </tr>\n",
       "    <tr>\n",
       "      <th>d239f1ec9883150942d6ff5078b3091c</th>\n",
       "      <td>0.8</td>\n",
       "      <td>200</td>\n",
       "      <td>None</td>\n",
       "      <td>True</td>\n",
       "      <td>0.01</td>\n",
       "      <td>0.0003</td>\n",
       "      <td>2.5</td>\n",
       "      <td>42</td>\n",
       "      <td>1000000.0</td>\n",
       "      <td>10000</td>\n",
       "      <td>8.0</td>\n",
       "      <td>5.5</td>\n",
       "      <td>100000000.0</td>\n",
       "      <td>False</td>\n",
       "      <td>3.563595</td>\n",
       "      <td>5.323688e-26</td>\n",
       "      <td>0.25</td>\n",
       "      <td>[18.291443765429943, 18.291443765429943, 18.29...</td>\n",
       "    </tr>\n",
       "    <tr>\n",
       "      <th>254295bc111e799d3d842b75a2958b44</th>\n",
       "      <td>0.8</td>\n",
       "      <td>200</td>\n",
       "      <td>None</td>\n",
       "      <td>True</td>\n",
       "      <td>0.01</td>\n",
       "      <td>0.0003</td>\n",
       "      <td>2.5</td>\n",
       "      <td>42</td>\n",
       "      <td>1000000.0</td>\n",
       "      <td>10000</td>\n",
       "      <td>8.0</td>\n",
       "      <td>6.0</td>\n",
       "      <td>100000000.0</td>\n",
       "      <td>False</td>\n",
       "      <td>3.563595</td>\n",
       "      <td>5.323688e-26</td>\n",
       "      <td>0.25</td>\n",
       "      <td>[18.291443765429943, 18.291443765429943, 18.29...</td>\n",
       "    </tr>\n",
       "  </tbody>\n",
       "</table>\n",
       "</div>"
      ],
      "text/plain": [
       "JobsCursor(project=Project.get_project('/home/madilynpaul/notebooks/hoomdpolymers/p3ht'), filter=None)"
      ]
     },
     "execution_count": 3,
     "metadata": {},
     "output_type": "execute_result"
    }
   ],
   "source": [
    "project.find_jobs()"
   ]
  },
  {
   "cell_type": "code",
   "execution_count": 4,
   "id": "72ef65d0",
   "metadata": {},
   "outputs": [],
   "source": [
    "a = numpy.genfromtxt(\"workspace/254295bc111e799d3d842b75a2958b44/sim_data.txt\",names=True)"
   ]
  },
  {
   "cell_type": "code",
   "execution_count": 5,
   "id": "efbb1e75",
   "metadata": {},
   "outputs": [
    {
     "data": {
      "text/plain": [
       "808689.3717326733"
      ]
     },
     "execution_count": 5,
     "metadata": {},
     "output_type": "execute_result"
    }
   ],
   "source": [
    "numpy.average(a[\"mdcomputeThermodynamicQuantitiespotential_energy\"])"
   ]
  },
  {
   "cell_type": "code",
   "execution_count": 13,
   "id": "d365f2b2",
   "metadata": {
    "scrolled": false
   },
   "outputs": [
    {
     "data": {
      "text/plain": [
       "Text(0.5, 0, 'Number of Samples')"
      ]
     },
     "execution_count": 13,
     "metadata": {},
     "output_type": "execute_result"
    },
    {
     "data": {
      "image/png": "[encoded data removed]",
      "text/plain": [
       "<Figure size 640x480 with 1 Axes>"
      ]
     },
     "metadata": {},
     "output_type": "display_data"
    }
   ],
   "source": [
    "plt.plot(a[\"mdcomputeThermodynamicQuantitiespotential_energy\"][:10000]/19200)\n",
    "plt.ylabel(\"Potential Energy\")\n",
    "plt.xlabel(\"Number of Samples\")"
   ]
  },
  {
   "cell_type": "code",
   "execution_count": 7,
   "id": "a005b96c",
   "metadata": {},
   "outputs": [
    {
     "data": {
      "text/plain": [
       "[<matplotlib.lines.Line2D at 0x7fa9b41a6cd0>]"
      ]
     },
     "execution_count": 7,
     "metadata": {},
     "output_type": "execute_result"
    },
    {
     "data": {
      "image/png": "[encoded data removed]",
      "text/plain": [
       "<Figure size 640x480 with 1 Axes>"
      ]
     },
     "metadata": {},
     "output_type": "display_data"
    }
   ],
   "source": [
    "plt.plot(a[\"hoomd_polymerssimsimulationSimulationtps\"][2000:])"
   ]
  }
 ],
 "metadata": {
  "kernelspec": {
   "display_name": "Python 3 (ipykernel)",
   "language": "python",
   "name": "python3"
  },
  "language_info": {
   "codemirror_mode": {
    "name": "ipython",
    "version": 3
   },
   "file_extension": ".py",
   "mimetype": "text/x-python",
   "name": "python",
   "nbconvert_exporter": "python",
   "pygments_lexer": "ipython3",
   "version": "3.9.16"
  }
 },
 "nbformat": 4,
 "nbformat_minor": 5
}
